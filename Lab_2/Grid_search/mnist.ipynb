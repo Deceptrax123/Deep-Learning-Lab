{
 "cells": [
  {
   "cell_type": "code",
   "execution_count": null,
   "metadata": {},
   "outputs": [],
   "source": [
    "#Name: Srinitish Srinivasan\n",
    "#Register Number: 21BAI1394"
   ]
  },
  {
   "cell_type": "code",
   "execution_count": null,
   "metadata": {},
   "outputs": [],
   "source": [
    "import keras\n",
    "from keras.datasets import mnist\n",
    "import tensorflow as tf \n",
    "from scikeras.wrappers import KerasClassifier\n",
    "from sklearn.model_selection import GridSearchCV\n",
    "import numpy as np\n",
    "import matplotlib.pyplot as plt"
   ]
  },
  {
   "cell_type": "code",
   "execution_count": null,
   "metadata": {},
   "outputs": [],
   "source": [
    "#Load dataset\n",
    "(train_x,train_y),(test_x,test_y)=mnist.load_data()\n",
    "\n",
    "#Preprocessing\n",
    "train_x=(train_x.reshape((60000,28*28,))/255)\n",
    "test_x=(test_x.reshape((10000,28*28,))/255)"
   ]
  },
  {
   "cell_type": "code",
   "execution_count": null,
   "metadata": {},
   "outputs": [],
   "source": [
    "#Convert to one hot\n",
    "def convert_to_one_hot(label,depth=10):\n",
    "    encoded=tf.one_hot(label,depth,axis=0)\n",
    "    \n",
    "    return encoded"
   ]
  },
  {
   "cell_type": "code",
   "execution_count": null,
   "metadata": {},
   "outputs": [],
   "source": [
    "train_y,test_y=np.array(convert_to_one_hot(train_y)),np.array(convert_to_one_hot(test_y))\n",
    "train_y,test_y=np.transpose(train_y),np.transpose(test_y)"
   ]
  },
  {
   "cell_type": "code",
   "execution_count": null,
   "metadata": {},
   "outputs": [],
   "source": [
    "def create_model():   \n",
    "    #Make Model\n",
    "    nn=tf.keras.Sequential()\n",
    "    nn.add(tf.keras.layers.Dense(units=512,activation='relu',kernel_initializer='glorot_uniform',input_shape=(28*28,)))\n",
    "    nn.add(tf.keras.layers.Dense(units=10,activation='softmax',kernel_initializer='glorot_uniform'))\n",
    "\n",
    "    nn.compile(optimizer=tf.keras.optimizers.legacy.Adam(),loss=keras.losses.CategoricalCrossentropy(),metrics=keras.metrics.CategoricalAccuracy())\n",
    "\n",
    "    return nn"
   ]
  },
  {
   "cell_type": "code",
   "execution_count": null,
   "metadata": {},
   "outputs": [],
   "source": [
    "model=KerasClassifier(build_fn=create_model,verbose=0)\n",
    "\n",
    "optimizer=['rmsprop','adam']\n",
    "epochs=[2,5,10]\n",
    "batch=[8,16,32]\n",
    "\n",
    "grid_params=dict(optimizer=optimizer,epochs=epochs,batch_size=batch)\n",
    "gridsearch=GridSearchCV(estimator=model,param_grid=grid_params)\n",
    "\n",
    "result=gridsearch.fit(train_x,train_y,verbose=0)\n"
   ]
  },
  {
   "cell_type": "code",
   "execution_count": null,
   "metadata": {},
   "outputs": [],
   "source": [
    "print(\"Best scores\")\n",
    "print(result.best_score_,result.best_params_)\n",
    "\n",
    "mean=result.cv_results_['mean_test_score']\n",
    "stds=result.cv_results_['std_test_score']\n",
    "\n",
    "params=result.cv_results_['params']\n",
    "for mean,std,params in zip(mean,stds,params):\n",
    "    print(\"%f (%f) with :%r\" %(mean,std,params))"
   ]
  },
  {
   "cell_type": "code",
   "execution_count": null,
   "metadata": {},
   "outputs": [],
   "source": []
  }
 ],
 "metadata": {
  "kernelspec": {
   "display_name": ".venv",
   "language": "python",
   "name": "python3"
  },
  "language_info": {
   "codemirror_mode": {
    "name": "ipython",
    "version": 3
   },
   "file_extension": ".py",
   "mimetype": "text/x-python",
   "name": "python",
   "nbconvert_exporter": "python",
   "pygments_lexer": "ipython3",
   "version": "3.11.4"
  }
 },
 "nbformat": 4,
 "nbformat_minor": 2
}
